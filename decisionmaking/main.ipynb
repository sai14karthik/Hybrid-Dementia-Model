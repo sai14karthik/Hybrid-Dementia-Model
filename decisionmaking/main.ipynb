{
 "cells": [
  {
   "cell_type": "code",
   "execution_count": 1,
   "metadata": {},
   "outputs": [
    {
     "name": "stdout",
     "output_type": "stream",
     "text": [
      "Features shape: (6672, 25088)\n",
      "Labels shape: (6672, 4)\n"
     ]
    }
   ],
   "source": [
    "import numpy as np\n",
    "from sklearn.model_selection import train_test_split\n",
    "\n",
    "# Load the saved features and labels\n",
    "all_features_vgg16 = np.load('/Users/saikarthik/Desktop/scp/ga_vgg16/all_features_vgg16.npy')\n",
    "all_labels_vgg16 = np.load('/Users/saikarthik/Desktop/scp/ga_vgg16/all_labels_vgg16.npy')\n",
    "\n",
    "# Print shape to verify loading\n",
    "print(f'Features shape: {all_features_vgg16.shape}')\n",
    "print(f'Labels shape: {all_labels_vgg16.shape}')\n"
   ]
  },
  {
   "cell_type": "code",
   "execution_count": 2,
   "metadata": {},
   "outputs": [
    {
     "name": "stdout",
     "output_type": "stream",
     "text": [
      "Features shape: (6672, 25088)\n",
      "Labels shape: (6672, 4)\n"
     ]
    }
   ],
   "source": [
    "all_features_vgg19 = np.load('/Users/saikarthik/Desktop/scp/ga_vgg19/all_features_vgg19.npy')\n",
    "all_labels_vgg19 = np.load('/Users/saikarthik/Desktop/scp/ga_vgg19/all_labels_vgg19.npy')\n",
    "\n",
    "# Print shape to verify loading\n",
    "print(f'Features shape: {all_features_vgg16.shape}')\n",
    "print(f'Labels shape: {all_labels_vgg16.shape}')"
   ]
  },
  {
   "cell_type": "code",
   "execution_count": 3,
   "metadata": {},
   "outputs": [
    {
     "name": "stderr",
     "output_type": "stream",
     "text": [
      "2024-11-15 19:47:11.727528: I metal_plugin/src/device/metal_device.cc:1154] Metal device set to: Apple M1 Pro\n",
      "2024-11-15 19:47:11.727562: I metal_plugin/src/device/metal_device.cc:296] systemMemory: 16.00 GB\n",
      "2024-11-15 19:47:11.727572: I metal_plugin/src/device/metal_device.cc:313] maxCacheSize: 5.33 GB\n",
      "2024-11-15 19:47:11.727608: I tensorflow/core/common_runtime/pluggable_device/pluggable_device_factory.cc:303] Could not identify NUMA node of platform GPU ID 0, defaulting to 0. Your kernel may not have been built with NUMA support.\n",
      "2024-11-15 19:47:11.727622: I tensorflow/core/common_runtime/pluggable_device/pluggable_device_factory.cc:269] Created TensorFlow device (/job:localhost/replica:0/task:0/device:GPU:0 with 0 MB memory) -> physical PluggableDevice (device: 0, name: METAL, pci bus id: <undefined>)\n"
     ]
    }
   ],
   "source": [
    "from tensorflow.keras.models import load_model\n",
    "\n",
    "# Load the best VGG16 and VGG19 models\n",
    "best_vgg16_model = load_model('/Users/saikarthik/Desktop/scp/ga_vgg16/best_vgg16.h5')\n",
    "best_vgg19_model = load_model('/Users/saikarthik/Desktop/scp/ga_vgg19/best_vgg19.h5')\n"
   ]
  },
  {
   "cell_type": "code",
   "execution_count": 4,
   "metadata": {},
   "outputs": [
    {
     "data": {
      "text/plain": [
       "array([[-0.02366601, -0.02984692, -0.03679322, ..., -0.03021036,\n",
       "         0.12961806, -0.05106451],\n",
       "       [-0.02366601, -0.02984692, -0.03679322, ..., -0.03021036,\n",
       "        -0.12863688, -0.05106451],\n",
       "       [-0.02366601, -0.02984692, -0.03679322, ..., -0.03021036,\n",
       "        -0.72598183, -0.05106451],\n",
       "       ...,\n",
       "       [-0.02366601, -0.02984692, -0.03679322, ..., -0.03021036,\n",
       "        -0.44760674, -0.05106451],\n",
       "       [-0.02366601, -0.02984692, -0.03679322, ..., -0.03021036,\n",
       "        -0.72598183, -0.05106451],\n",
       "       [-0.02366601, -0.02984692, -0.03679322, ..., -0.03021036,\n",
       "        -0.11591294, -0.05106451]], dtype=float32)"
      ]
     },
     "execution_count": 4,
     "metadata": {},
     "output_type": "execute_result"
    }
   ],
   "source": [
    "all_features_vgg16"
   ]
  },
  {
   "cell_type": "code",
   "execution_count": 6,
   "metadata": {},
   "outputs": [
    {
     "data": {
      "text/plain": [
       "array([[-1.2288334e-02, -2.8639566e-02, -4.1679051e-02, ...,\n",
       "        -1.2243470e-02, -3.4375422e-02,  1.6440372e+01],\n",
       "       [-1.2288334e-02, -2.8639566e-02, -4.1679051e-02, ...,\n",
       "        -1.2243470e-02, -3.4375422e-02, -5.7346612e-02],\n",
       "       [-1.2288334e-02, -2.8639566e-02, -4.1679051e-02, ...,\n",
       "        -1.2243470e-02, -3.4375422e-02, -5.7346612e-02],\n",
       "       ...,\n",
       "       [-1.2288334e-02, -2.8639566e-02, -4.1679051e-02, ...,\n",
       "        -1.2243470e-02, -3.4375422e-02, -5.7346612e-02],\n",
       "       [-1.2288334e-02, -2.8639566e-02, -4.1679051e-02, ...,\n",
       "        -1.2243470e-02, -3.4375422e-02, -5.7346612e-02],\n",
       "       [-1.2288334e-02, -2.8639566e-02, -4.1679051e-02, ...,\n",
       "        -1.2243470e-02, -3.4375422e-02, -5.7346612e-02]], dtype=float32)"
      ]
     },
     "execution_count": 6,
     "metadata": {},
     "output_type": "execute_result"
    }
   ],
   "source": [
    "all_features_vgg19"
   ]
  },
  {
   "cell_type": "code",
   "execution_count": 5,
   "metadata": {},
   "outputs": [
    {
     "data": {
      "text/plain": [
       "array([[0., 0., 0., 1.],\n",
       "       [0., 0., 0., 1.],\n",
       "       [0., 0., 0., 1.],\n",
       "       ...,\n",
       "       [0., 0., 1., 0.],\n",
       "       [0., 0., 1., 0.],\n",
       "       [0., 0., 1., 0.]])"
      ]
     },
     "execution_count": 5,
     "metadata": {},
     "output_type": "execute_result"
    }
   ],
   "source": [
    "all_labels_vgg16"
   ]
  },
  {
   "cell_type": "code",
   "execution_count": 8,
   "metadata": {},
   "outputs": [
    {
     "data": {
      "text/plain": [
       "array([[0., 0., 0., 1.],\n",
       "       [0., 0., 0., 1.],\n",
       "       [0., 0., 0., 1.],\n",
       "       ...,\n",
       "       [0., 0., 1., 0.],\n",
       "       [0., 0., 1., 0.],\n",
       "       [0., 0., 1., 0.]])"
      ]
     },
     "execution_count": 8,
     "metadata": {},
     "output_type": "execute_result"
    }
   ],
   "source": [
    "all_labels_vgg19"
   ]
  }
 ],
 "metadata": {
  "kernelspec": {
   "display_name": "Python 3",
   "language": "python",
   "name": "python3"
  },
  "language_info": {
   "codemirror_mode": {
    "name": "ipython",
    "version": 3
   },
   "file_extension": ".py",
   "mimetype": "text/x-python",
   "name": "python",
   "nbconvert_exporter": "python",
   "pygments_lexer": "ipython3",
   "version": "3.8.16"
  }
 },
 "nbformat": 4,
 "nbformat_minor": 2
}
