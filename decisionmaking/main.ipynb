{
 "cells": [
  {
   "cell_type": "code",
   "execution_count": 49,
   "metadata": {},
   "outputs": [],
   "source": [
    "import numpy as np\n",
    "from sklearn.model_selection import train_test_split\n",
    "import numpy as np\n",
    "from tensorflow.keras.models import load_model\n",
    "import skfuzzy as fuzz\n",
    "import skfuzzy.control as ctrl\n",
    "from sklearn.metrics import confusion_matrix, accuracy_score, precision_score, recall_score, f1_score\n",
    "\n"
   ]
  },
  {
   "cell_type": "code",
   "execution_count": 50,
   "metadata": {},
   "outputs": [
    {
     "name": "stdout",
     "output_type": "stream",
     "text": [
      "Features shape: (6672, 25088)\n",
      "Labels shape: (6672, 4)\n"
     ]
    }
   ],
   "source": [
    "# Load the saved features and labels\n",
    "all_features_vgg16 = np.load('/Users/saikarthik/Desktop/scp/ga_vgg16/all_features_vgg16.npy')\n",
    "all_labels_vgg16 = np.load('/Users/saikarthik/Desktop/scp/ga_vgg16/all_labels_vgg16.npy')\n",
    "\n",
    "# Print shape to verify loading\n",
    "print(f'Features shape: {all_features_vgg16.shape}')\n",
    "print(f'Labels shape: {all_labels_vgg16.shape}')\n"
   ]
  },
  {
   "cell_type": "code",
   "execution_count": 51,
   "metadata": {},
   "outputs": [
    {
     "name": "stdout",
     "output_type": "stream",
     "text": [
      "Features shape: (6672, 25088)\n",
      "Labels shape: (6672, 4)\n"
     ]
    }
   ],
   "source": [
    "all_features_vgg19 = np.load('/Users/saikarthik/Desktop/scp/ga_vgg19/all_features_vgg19.npy')\n",
    "all_labels_vgg19 = np.load('/Users/saikarthik/Desktop/scp/ga_vgg19/all_labels_vgg19.npy')\n",
    "\n",
    "# Print shape to verify loading\n",
    "print(f'Features shape: {all_features_vgg16.shape}')\n",
    "print(f'Labels shape: {all_labels_vgg16.shape}')"
   ]
  },
  {
   "cell_type": "code",
   "execution_count": 52,
   "metadata": {},
   "outputs": [],
   "source": [
    "from tensorflow.keras.models import load_model\n",
    "\n",
    "# Load the best VGG16 and VGG19 models\n",
    "best_vgg16_model = load_model('/Users/saikarthik/Desktop/scp/ga_vgg16/best_vgg16.h5')\n",
    "best_vgg19_model = load_model('/Users/saikarthik/Desktop/scp/ga_vgg19/best_vgg19.h5')\n"
   ]
  },
  {
   "cell_type": "code",
   "execution_count": 53,
   "metadata": {},
   "outputs": [
    {
     "data": {
      "text/plain": [
       "array([[-0.01595471, -0.02323486, -0.03968799, ..., -0.0262275 ,\n",
       "        -0.0721586 , -0.04747448],\n",
       "       [-0.01595471, -0.02323486, -0.03968799, ..., -0.0262275 ,\n",
       "        -0.11433829, -0.04747448],\n",
       "       [-0.01595471, -0.02323486, -0.03968799, ..., -0.0262275 ,\n",
       "        -0.59788954, -0.04747448],\n",
       "       ...,\n",
       "       [-0.01595471, -0.02323486, -0.03968799, ..., -0.0262275 ,\n",
       "        -0.37254465, -0.04747448],\n",
       "       [-0.01595471, -0.02323486, -0.03968799, ..., -0.0262275 ,\n",
       "        -0.59788954, -0.04747448],\n",
       "       [-0.01595471, -0.02323486, -0.03968799, ..., -0.0262275 ,\n",
       "        -0.10403824, -0.04747448]], dtype=float32)"
      ]
     },
     "execution_count": 53,
     "metadata": {},
     "output_type": "execute_result"
    }
   ],
   "source": [
    "all_features_vgg16"
   ]
  },
  {
   "cell_type": "code",
   "execution_count": 54,
   "metadata": {},
   "outputs": [
    {
     "data": {
      "text/plain": [
       "array([[-1.2243470e-02, -2.8450558e-02, -2.8095832e-02, ...,\n",
       "        -1.6167998e-02, -3.4550823e-02,  1.3985383e+01],\n",
       "       [-1.2243470e-02, -2.8450558e-02, -2.8095832e-02, ...,\n",
       "        -1.6167998e-02, -3.4550823e-02, -6.0834702e-02],\n",
       "       [-1.2243470e-02, -2.8450558e-02, -2.8095832e-02, ...,\n",
       "        -1.6167998e-02, -3.4550823e-02, -6.0834702e-02],\n",
       "       ...,\n",
       "       [-1.2243470e-02, -2.8450558e-02, -2.8095832e-02, ...,\n",
       "        -1.6167998e-02, -3.4550823e-02, -6.0834702e-02],\n",
       "       [-1.2243470e-02, -2.8450558e-02, -2.8095832e-02, ...,\n",
       "        -1.6167998e-02, -3.4550823e-02, -6.0834702e-02],\n",
       "       [-1.2243470e-02, -2.8450558e-02, -2.8095832e-02, ...,\n",
       "        -1.6167998e-02, -3.4550823e-02, -6.0834702e-02]], dtype=float32)"
      ]
     },
     "execution_count": 54,
     "metadata": {},
     "output_type": "execute_result"
    }
   ],
   "source": [
    "all_features_vgg19"
   ]
  },
  {
   "cell_type": "code",
   "execution_count": 55,
   "metadata": {},
   "outputs": [
    {
     "data": {
      "text/plain": [
       "array([[0., 0., 0., 1.],\n",
       "       [0., 0., 0., 1.],\n",
       "       [0., 0., 0., 1.],\n",
       "       ...,\n",
       "       [0., 0., 1., 0.],\n",
       "       [0., 0., 1., 0.],\n",
       "       [0., 0., 1., 0.]])"
      ]
     },
     "execution_count": 55,
     "metadata": {},
     "output_type": "execute_result"
    }
   ],
   "source": [
    "all_labels_vgg16"
   ]
  },
  {
   "cell_type": "code",
   "execution_count": 56,
   "metadata": {},
   "outputs": [
    {
     "data": {
      "text/plain": [
       "array([[0., 0., 0., 1.],\n",
       "       [0., 0., 0., 1.],\n",
       "       [0., 0., 0., 1.],\n",
       "       ...,\n",
       "       [0., 0., 1., 0.],\n",
       "       [0., 0., 1., 0.],\n",
       "       [0., 0., 1., 0.]])"
      ]
     },
     "execution_count": 56,
     "metadata": {},
     "output_type": "execute_result"
    }
   ],
   "source": [
    "all_labels_vgg19"
   ]
  },
  {
   "cell_type": "code",
   "execution_count": 57,
   "metadata": {},
   "outputs": [],
   "source": [
    "num_classes = 4\n",
    "\n",
    "final_predictions = []\n",
    "sample_index = 0\n"
   ]
  },
  {
   "cell_type": "code",
   "execution_count": 58,
   "metadata": {},
   "outputs": [],
   "source": [
    "# 1. Normalize predictions using fuzzy language\n",
    "def normalize_probabilities(predictions):\n",
    "    # Sum of fuzzy predictions\n",
    "    total_fuzzy = np.sum(predictions)\n",
    "    # Normalize using fuzzy concept (sum of fuzzy terms)\n",
    "    return predictions / total_fuzzy"
   ]
  },
  {
   "cell_type": "code",
   "execution_count": 59,
   "metadata": {},
   "outputs": [],
   "source": [
    "\n",
    "\n",
    "# 2. Decision-making using weighted average with fuzzy rules\n",
    "def weighted_average_decision(prob_vgg16, prob_vgg19, weight_vgg16=0.6, weight_vgg19=0.4):\n",
    "    # Normalize the fuzzy probabilities\n",
    "    prob_vgg16 = normalize_probabilities(prob_vgg16)\n",
    "    prob_vgg19 = normalize_probabilities(prob_vgg19)\n",
    "    \n",
    "    # Combine using fuzzy weights\n",
    "    combined_fuzzy_prob = (weight_vgg16 * prob_vgg16) + (weight_vgg19 * prob_vgg19)\n",
    "    \n",
    "    # Make final decision (fuzzy maximum)\n",
    "    final_class = np.argmax(combined_fuzzy_prob)\n",
    "    return final_class\n"
   ]
  },
  {
   "cell_type": "code",
   "execution_count": 60,
   "metadata": {},
   "outputs": [],
   "source": [
    "\n",
    "\n",
    "def adjust_weights(pred_vgg16, pred_vgg19, actual_label, weight_vgg16, weight_vgg19, threshold=0.1):\n",
    "    predicted_class = weighted_average_decision(pred_vgg16, pred_vgg19, weight_vgg16, weight_vgg19)\n",
    "    \n",
    "    # Fuzzy check if predictions do not match the actual label\n",
    "    if predicted_class != actual_label:\n",
    "        print(\"Adjusting fuzzy weights.\")\n",
    "        \n",
    "        # Adjust weight_vgg16 based on fuzzy rules\n",
    "        if np.argmax(pred_vgg16) != actual_label:\n",
    "            weight_vgg16 = max(0.1, weight_vgg16 - threshold)  # Fuzzy decrease in weight\n",
    "        else:\n",
    "            weight_vgg16 = min(1.0, weight_vgg16 + threshold)  # Fuzzy increase in weight\n",
    "\n",
    "        # Adjust weight_vgg19 based on fuzzy rules\n",
    "        if np.argmax(pred_vgg19) != actual_label:\n",
    "            weight_vgg19 = max(0.1, weight_vgg19 - threshold)  # Fuzzy decrease in weight\n",
    "        else:\n",
    "            weight_vgg19 = min(1.0, weight_vgg19 + threshold)  # Fuzzy increase in weight\n",
    "    \n",
    "    return weight_vgg16, weight_vgg19, predicted_class\n",
    "\n"
   ]
  },
  {
   "cell_type": "code",
   "execution_count": 61,
   "metadata": {},
   "outputs": [],
   "source": [
    "\n",
    "# 4. Adjust weights iteratively using fuzzy rules\n",
    "def adjust_weights_with_iterations(pred_vgg16, pred_vgg19, actual_label, weight_vgg16, weight_vgg19, threshold=0.1, max_iterations=5):\n",
    "    iteration = 0\n",
    "    predicted_class = weighted_average_decision(pred_vgg16, pred_vgg19, weight_vgg16, weight_vgg19)\n",
    "    \n",
    "    while predicted_class != actual_label and iteration < max_iterations:\n",
    "        print(f\"Iteration {iteration + 1}: Prediction is incorrect.\")\n",
    "        \n",
    "        # Adjust fuzzy weights on each iteration\n",
    "        weight_vgg16, weight_vgg19, _ = adjust_weights(pred_vgg16, pred_vgg19, actual_label, weight_vgg16, weight_vgg19, threshold)\n",
    "        \n",
    "        predicted_class = weighted_average_decision(pred_vgg16, pred_vgg19, weight_vgg16, weight_vgg19)\n",
    "        \n",
    "        iteration += 1\n",
    "    \n",
    "    return weight_vgg16, weight_vgg19, predicted_class, iteration"
   ]
  },
  {
   "cell_type": "code",
   "execution_count": null,
   "metadata": {},
   "outputs": [
    {
     "name": "stdout",
     "output_type": "stream",
     "text": [
      "1/1 [==============================] - 0s 18ms/step\n",
      "1/1 [==============================] - 0s 12ms/step\n",
      "Initial weights -> VGG16: 0.6, VGG19: 0.4\n",
      "Initial prediction: 0, Actual label: 3\n",
      "Iteration 1: Prediction is incorrect.\n",
      "Adjusting fuzzy weights.\n",
      "Iteration 2: Prediction is incorrect.\n",
      "Adjusting fuzzy weights.\n",
      "Adjusted weights -> VGG16: 0.4, VGG19: 0.6\n",
      "Predicted label after 2 iteration(s): 3\n"
     ]
    }
   ],
   "source": [
    "\n",
    "# 1 11 6100 1111 868\n",
    "sample_index = 868\n",
    "\n",
    "sample_vgg16 = all_features_vgg16[sample_index:sample_index+1] \n",
    "sample_vgg19 = all_features_vgg19[sample_index:sample_index+1]  \n",
    "actual_label = np.argmax(all_labels_vgg16[sample_index])  \n",
    "\n",
    "weight_vgg16 = 0.6\n",
    "weight_vgg19 = 0.4\n",
    "\n",
    "# Predicted fuzzy probabilities\n",
    "pred_vgg16 = best_vgg16_model.predict(sample_vgg16)  \n",
    "pred_vgg19 = best_vgg19_model.predict(sample_vgg19)  \n",
    "\n",
    "# Print initial weights\n",
    "print(f\"Initial weights -> VGG16: {weight_vgg16}, VGG19: {weight_vgg19}\")\n",
    "\n",
    "# Predicted class using the weighted average decision\n",
    "predicted_class = weighted_average_decision(pred_vgg16[0], pred_vgg19[0], weight_vgg16, weight_vgg19)\n",
    "\n",
    "# Print initial prediction\n",
    "if predicted_class == actual_label :\n",
    "    print(f\"Initial prediction: {predicted_class}, Actual label: {actual_label}\")\n",
    "    print(\"No need to update weights\")\n",
    "else :\n",
    "    print(f\"Initial prediction: {predicted_class}, Actual label: {actual_label}\")\n",
    "    \n",
    "    # Adjust weights using fuzzy logic and iterate if necessary\n",
    "    weight_vgg16, weight_vgg19, predicted_class, iterations = adjust_weights_with_iterations(\n",
    "        pred_vgg16[0], pred_vgg19[0], actual_label, weight_vgg16, weight_vgg19)\n",
    "\n",
    "    # Print the final result after adjustment\n",
    "    print(f\"Adjusted weights -> VGG16: {weight_vgg16}, VGG19: {weight_vgg19}\")\n",
    "    print(f\"Predicted label after {iterations} iteration(s): {predicted_class}\")\n"
   ]
  }
 ],
 "metadata": {
  "kernelspec": {
   "display_name": "Python 3",
   "language": "python",
   "name": "python3"
  },
  "language_info": {
   "codemirror_mode": {
    "name": "ipython",
    "version": 3
   },
   "file_extension": ".py",
   "mimetype": "text/x-python",
   "name": "python",
   "nbconvert_exporter": "python",
   "pygments_lexer": "ipython3",
   "version": "3.8.16"
  }
 },
 "nbformat": 4,
 "nbformat_minor": 2
}
