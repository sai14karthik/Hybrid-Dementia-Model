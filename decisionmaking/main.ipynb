{
 "cells": [
  {
   "cell_type": "code",
   "execution_count": null,
   "metadata": {},
   "outputs": [],
   "source": [
    "import numpy as np\n",
    "from sklearn.model_selection import train_test_split\n",
    "import numpy as np\n",
    "from tensorflow.keras.models import load_model\n",
    "\n"
   ]
  },
  {
   "cell_type": "code",
   "execution_count": 2,
   "metadata": {},
   "outputs": [
    {
     "name": "stdout",
     "output_type": "stream",
     "text": [
      "Features shape: (6672, 25088)\n",
      "Labels shape: (6672, 4)\n"
     ]
    }
   ],
   "source": [
    "# Load the saved features and labels\n",
    "all_features_vgg16 = np.load('/Users/saikarthik/Desktop/scp/ga_vgg16/all_features_vgg16.npy')\n",
    "all_labels_vgg16 = np.load('/Users/saikarthik/Desktop/scp/ga_vgg16/all_labels_vgg16.npy')\n",
    "\n",
    "# Print shape to verify loading\n",
    "print(f'Features shape: {all_features_vgg16.shape}')\n",
    "print(f'Labels shape: {all_labels_vgg16.shape}')\n"
   ]
  },
  {
   "cell_type": "code",
   "execution_count": 3,
   "metadata": {},
   "outputs": [
    {
     "name": "stdout",
     "output_type": "stream",
     "text": [
      "Features shape: (6672, 25088)\n",
      "Labels shape: (6672, 4)\n"
     ]
    }
   ],
   "source": [
    "all_features_vgg19 = np.load('/Users/saikarthik/Desktop/scp/ga_vgg19/all_features_vgg19.npy')\n",
    "all_labels_vgg19 = np.load('/Users/saikarthik/Desktop/scp/ga_vgg19/all_labels_vgg19.npy')\n",
    "\n",
    "# Print shape to verify loading\n",
    "print(f'Features shape: {all_features_vgg16.shape}')\n",
    "print(f'Labels shape: {all_labels_vgg16.shape}')"
   ]
  },
  {
   "cell_type": "code",
   "execution_count": 4,
   "metadata": {},
   "outputs": [
    {
     "name": "stderr",
     "output_type": "stream",
     "text": [
      "2024-11-20 06:33:29.731589: I metal_plugin/src/device/metal_device.cc:1154] Metal device set to: Apple M1 Pro\n",
      "2024-11-20 06:33:29.731617: I metal_plugin/src/device/metal_device.cc:296] systemMemory: 16.00 GB\n",
      "2024-11-20 06:33:29.731631: I metal_plugin/src/device/metal_device.cc:313] maxCacheSize: 5.33 GB\n",
      "2024-11-20 06:33:29.731703: I tensorflow/core/common_runtime/pluggable_device/pluggable_device_factory.cc:303] Could not identify NUMA node of platform GPU ID 0, defaulting to 0. Your kernel may not have been built with NUMA support.\n",
      "2024-11-20 06:33:29.731760: I tensorflow/core/common_runtime/pluggable_device/pluggable_device_factory.cc:269] Created TensorFlow device (/job:localhost/replica:0/task:0/device:GPU:0 with 0 MB memory) -> physical PluggableDevice (device: 0, name: METAL, pci bus id: <undefined>)\n"
     ]
    }
   ],
   "source": [
    "from tensorflow.keras.models import load_model\n",
    "\n",
    "# Load the best VGG16 and VGG19 models\n",
    "best_vgg16_model = load_model('/Users/saikarthik/Desktop/scp/ga_vgg16/best_vgg16.h5')\n",
    "best_vgg19_model = load_model('/Users/saikarthik/Desktop/scp/ga_vgg19/best_vgg19.h5')\n"
   ]
  },
  {
   "cell_type": "code",
   "execution_count": 5,
   "metadata": {},
   "outputs": [
    {
     "data": {
      "text/plain": [
       "array([[-0.01595471, -0.02323486, -0.03968799, ..., -0.0262275 ,\n",
       "        -0.0721586 , -0.04747448],\n",
       "       [-0.01595471, -0.02323486, -0.03968799, ..., -0.0262275 ,\n",
       "        -0.11433829, -0.04747448],\n",
       "       [-0.01595471, -0.02323486, -0.03968799, ..., -0.0262275 ,\n",
       "        -0.59788954, -0.04747448],\n",
       "       ...,\n",
       "       [-0.01595471, -0.02323486, -0.03968799, ..., -0.0262275 ,\n",
       "        -0.37254465, -0.04747448],\n",
       "       [-0.01595471, -0.02323486, -0.03968799, ..., -0.0262275 ,\n",
       "        -0.59788954, -0.04747448],\n",
       "       [-0.01595471, -0.02323486, -0.03968799, ..., -0.0262275 ,\n",
       "        -0.10403824, -0.04747448]], dtype=float32)"
      ]
     },
     "execution_count": 5,
     "metadata": {},
     "output_type": "execute_result"
    }
   ],
   "source": [
    "all_features_vgg16"
   ]
  },
  {
   "cell_type": "code",
   "execution_count": 6,
   "metadata": {},
   "outputs": [
    {
     "data": {
      "text/plain": [
       "array([[-1.2243470e-02, -2.8450558e-02, -2.8095832e-02, ...,\n",
       "        -1.6167998e-02, -3.4550823e-02,  1.3985383e+01],\n",
       "       [-1.2243470e-02, -2.8450558e-02, -2.8095832e-02, ...,\n",
       "        -1.6167998e-02, -3.4550823e-02, -6.0834702e-02],\n",
       "       [-1.2243470e-02, -2.8450558e-02, -2.8095832e-02, ...,\n",
       "        -1.6167998e-02, -3.4550823e-02, -6.0834702e-02],\n",
       "       ...,\n",
       "       [-1.2243470e-02, -2.8450558e-02, -2.8095832e-02, ...,\n",
       "        -1.6167998e-02, -3.4550823e-02, -6.0834702e-02],\n",
       "       [-1.2243470e-02, -2.8450558e-02, -2.8095832e-02, ...,\n",
       "        -1.6167998e-02, -3.4550823e-02, -6.0834702e-02],\n",
       "       [-1.2243470e-02, -2.8450558e-02, -2.8095832e-02, ...,\n",
       "        -1.6167998e-02, -3.4550823e-02, -6.0834702e-02]], dtype=float32)"
      ]
     },
     "execution_count": 6,
     "metadata": {},
     "output_type": "execute_result"
    }
   ],
   "source": [
    "all_features_vgg19"
   ]
  },
  {
   "cell_type": "code",
   "execution_count": 7,
   "metadata": {},
   "outputs": [
    {
     "data": {
      "text/plain": [
       "array([[0., 0., 0., 1.],\n",
       "       [0., 0., 0., 1.],\n",
       "       [0., 0., 0., 1.],\n",
       "       ...,\n",
       "       [0., 0., 1., 0.],\n",
       "       [0., 0., 1., 0.],\n",
       "       [0., 0., 1., 0.]])"
      ]
     },
     "execution_count": 7,
     "metadata": {},
     "output_type": "execute_result"
    }
   ],
   "source": [
    "all_labels_vgg16"
   ]
  },
  {
   "cell_type": "code",
   "execution_count": 8,
   "metadata": {},
   "outputs": [
    {
     "data": {
      "text/plain": [
       "array([[0., 0., 0., 1.],\n",
       "       [0., 0., 0., 1.],\n",
       "       [0., 0., 0., 1.],\n",
       "       ...,\n",
       "       [0., 0., 1., 0.],\n",
       "       [0., 0., 1., 0.],\n",
       "       [0., 0., 1., 0.]])"
      ]
     },
     "execution_count": 8,
     "metadata": {},
     "output_type": "execute_result"
    }
   ],
   "source": [
    "all_labels_vgg19"
   ]
  },
  {
   "cell_type": "code",
   "execution_count": 9,
   "metadata": {},
   "outputs": [],
   "source": [
    "num_classes = 4\n",
    "\n",
    "final_predictions = []\n",
    "sample_index = 0\n"
   ]
  },
  {
   "cell_type": "code",
   "execution_count": 10,
   "metadata": {},
   "outputs": [],
   "source": [
    "def normalize_probabilities(predictions):\n",
    "    return predictions / np.sum(predictions) \n"
   ]
  },
  {
   "cell_type": "code",
   "execution_count": 11,
   "metadata": {},
   "outputs": [],
   "source": [
    "def weighted_average_decision(prob_vgg16, prob_vgg19, weight_vgg16=0.6, weight_vgg19=0.4):\n",
    "    prob_vgg16 = normalize_probabilities(prob_vgg16)\n",
    "    prob_vgg19 = normalize_probabilities(prob_vgg19)\n",
    "    combined_prob = (weight_vgg16 * prob_vgg16) + (weight_vgg19 * prob_vgg19)\n",
    "    final_class = np.argmax(combined_prob) \n",
    "    return final_class"
   ]
  },
  {
   "cell_type": "code",
   "execution_count": 12,
   "metadata": {},
   "outputs": [],
   "source": [
    "def adjust_weights(pred_vgg16, pred_vgg19, actual_label, weight_vgg16, weight_vgg19, threshold=0.1):\n",
    "    predicted_class = weighted_average_decision(pred_vgg16, pred_vgg19, weight_vgg16, weight_vgg19)\n",
    "    if predicted_class != actual_label:\n",
    "        print(\"Adjusting weights.\")\n",
    "        \n",
    "        if np.argmax(pred_vgg16) != actual_label:\n",
    "            weight_vgg16 = max(0.1, weight_vgg16 - threshold)  \n",
    "        else:\n",
    "            weight_vgg16 = min(1.0, weight_vgg16 + threshold)  \n",
    "\n",
    "        if np.argmax(pred_vgg19) != actual_label:\n",
    "            weight_vgg19 = max(0.1, weight_vgg19 - threshold) \n",
    "        else:\n",
    "            weight_vgg19 = min(1.0, weight_vgg19 + threshold)  \n",
    "    \n",
    "    return weight_vgg16, weight_vgg19, predicted_class\n"
   ]
  },
  {
   "cell_type": "code",
   "execution_count": 13,
   "metadata": {},
   "outputs": [],
   "source": [
    "def adjust_weights_with_iterations(pred_vgg16, pred_vgg19, actual_label, weight_vgg16, weight_vgg19, threshold=0.1, max_iterations=5):\n",
    "    iteration = 0\n",
    "    predicted_class = weighted_average_decision(pred_vgg16, pred_vgg19, weight_vgg16, weight_vgg19)\n",
    "    \n",
    "    while predicted_class != actual_label and iteration < max_iterations:\n",
    "        print(f\"Iteration {iteration + 1}: Prediction is incorrect.\")\n",
    "        weight_vgg16, weight_vgg19, _ = adjust_weights(pred_vgg16, pred_vgg19, actual_label, weight_vgg16, weight_vgg19, threshold)\n",
    "        \n",
    "        predicted_class = weighted_average_decision(pred_vgg16, pred_vgg19, weight_vgg16, weight_vgg19)\n",
    "        \n",
    "        iteration += 1\n",
    "    \n",
    "    return weight_vgg16, weight_vgg19, predicted_class, iteration\n"
   ]
  },
  {
   "cell_type": "code",
   "execution_count": 15,
   "metadata": {},
   "outputs": [
    {
     "name": "stdout",
     "output_type": "stream",
     "text": [
      "1/1 [==============================] - 0s 14ms/step\n",
      "1/1 [==============================] - 0s 13ms/step\n",
      "Initial prediction: 2, Actual label: 3\n",
      "Iteration 1: Prediction is incorrect.\n",
      "Adjusting weights.\n",
      "Iteration 2: Prediction is incorrect.\n",
      "Adjusting weights.\n",
      "Iteration 3: Prediction is incorrect.\n",
      "Adjusting weights.\n",
      "Iteration 4: Prediction is incorrect.\n",
      "Adjusting weights.\n",
      "Iteration 5: Prediction is incorrect.\n",
      "Adjusting weights.\n",
      "Adjusted weights -> VGG16: 0.10000000000000003, VGG19: 0.1\n",
      "Predicted label after 5 iteration(s): 2\n"
     ]
    }
   ],
   "source": [
    "# 1 11 6100 1111 634\n",
    "sample_index =  634\n",
    "sample_vgg16 = all_features_vgg16[sample_index:sample_index+1] \n",
    "sample_vgg19 = all_features_vgg19[sample_index:sample_index+1]  \n",
    "actual_label = np.argmax(all_labels_vgg16[sample_index])  \n",
    "\n",
    "weight_vgg16 = 0.6\n",
    "weight_vgg19 = 0.4\n",
    "\n",
    "pred_vgg16 = best_vgg16_model.predict(sample_vgg16)  \n",
    "pred_vgg19 = best_vgg19_model.predict(sample_vgg19)  \n",
    "\n",
    "predicted_class = weighted_average_decision(pred_vgg16[0], pred_vgg19[0], weight_vgg16, weight_vgg19)\n",
    "\n",
    "\n",
    "\n",
    "if predicted_class == actual_label :\n",
    "    \n",
    "    print(f\"Initial prediction: {predicted_class}, Actual label: {actual_label}\")\n",
    "    print(\"No need to update weights\")\n",
    "else :\n",
    "    print(f\"Initial prediction: {predicted_class}, Actual label: {actual_label}\")\n",
    "    \n",
    "\n",
    "# Adjust weights and try again\n",
    "    weight_vgg16, weight_vgg19, predicted_class, iterations = adjust_weights_with_iterations(\n",
    "    pred_vgg16[0], pred_vgg19[0], actual_label, weight_vgg16, weight_vgg19)\n",
    "\n",
    "# Print the final result after adjustment\n",
    "    print(f\"Adjusted weights -> VGG16: {weight_vgg16}, VGG19: {weight_vgg19}\")\n",
    "    print(f\"Predicted label after {iterations} iteration(s): {predicted_class}\")"
   ]
  }
 ],
 "metadata": {
  "kernelspec": {
   "display_name": "Python 3",
   "language": "python",
   "name": "python3"
  },
  "language_info": {
   "codemirror_mode": {
    "name": "ipython",
    "version": 3
   },
   "file_extension": ".py",
   "mimetype": "text/x-python",
   "name": "python",
   "nbconvert_exporter": "python",
   "pygments_lexer": "ipython3",
   "version": "3.8.16"
  }
 },
 "nbformat": 4,
 "nbformat_minor": 2
}
