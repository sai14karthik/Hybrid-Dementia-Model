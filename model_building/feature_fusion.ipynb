{
 "cells": [
  {
   "cell_type": "code",
   "execution_count": 14,
   "metadata": {},
   "outputs": [],
   "source": [
    "import numpy as np\n"
   ]
  },
  {
   "cell_type": "code",
   "execution_count": 15,
   "metadata": {},
   "outputs": [],
   "source": [
    "all_features_vgg19= np.load('/Users/saikarthik/Desktop/scp/ga_vgg19/all_features_vgg19.npy')\n",
    "all_labels_vgg19= np.load('/Users/saikarthik/Desktop/scp/ga_vgg19/all_labels_vgg19.npy')\n",
    "\n"
   ]
  },
  {
   "cell_type": "code",
   "execution_count": 16,
   "metadata": {},
   "outputs": [],
   "source": [
    "all_features_mv3s= np.load('/Users/saikarthik/Desktop/scp/mobilenet/all_features_mv3s.npy')\n",
    "all_labels_mv3s= np.load('/Users/saikarthik/Desktop/scp/mobilenet/all_labels_mv3s.npy')\n",
    "\n"
   ]
  },
  {
   "cell_type": "code",
   "execution_count": 17,
   "metadata": {},
   "outputs": [
    {
     "data": {
      "text/plain": [
       "(6672, 4)"
      ]
     },
     "execution_count": 17,
     "metadata": {},
     "output_type": "execute_result"
    }
   ],
   "source": [
    "all_labels_vgg19.shape"
   ]
  },
  {
   "cell_type": "code",
   "execution_count": 18,
   "metadata": {},
   "outputs": [
    {
     "data": {
      "text/plain": [
       "(6672, 4)"
      ]
     },
     "execution_count": 18,
     "metadata": {},
     "output_type": "execute_result"
    }
   ],
   "source": [
    "all_labels_mv3s.shape"
   ]
  },
  {
   "cell_type": "code",
   "execution_count": 19,
   "metadata": {},
   "outputs": [
    {
     "data": {
      "text/plain": [
       "(6672, 25088)"
      ]
     },
     "execution_count": 19,
     "metadata": {},
     "output_type": "execute_result"
    }
   ],
   "source": [
    "all_features_vgg19.shape"
   ]
  },
  {
   "cell_type": "code",
   "execution_count": 20,
   "metadata": {},
   "outputs": [
    {
     "data": {
      "text/plain": [
       "(6672, 28224)"
      ]
     },
     "execution_count": 20,
     "metadata": {},
     "output_type": "execute_result"
    }
   ],
   "source": [
    "all_features_mv3s.shape"
   ]
  },
  {
   "cell_type": "code",
   "execution_count": 21,
   "metadata": {},
   "outputs": [
    {
     "name": "stdout",
     "output_type": "stream",
     "text": [
      "Combined feature shape: (6672, 53312)\n"
     ]
    }
   ],
   "source": [
    "combined_features = np.concatenate((all_features_vgg19, all_features_mv3s), axis=1)\n",
    "\n",
    "print(\"Combined feature shape:\", combined_features.shape)"
   ]
  },
  {
   "cell_type": "code",
   "execution_count": 22,
   "metadata": {},
   "outputs": [
    {
     "name": "stdout",
     "output_type": "stream",
     "text": [
      "Shape after removing duplicate features: (6672, 52047)\n"
     ]
    }
   ],
   "source": [
    "features_combined = np.concatenate((all_features_vgg19, all_features_mv3s), axis=1)  \n",
    "\n",
    "\n",
    "features_combined_unique = np.unique(features_combined, axis=1)\n",
    "\n",
    "print(f\"Shape after removing duplicate features: {features_combined_unique.shape}\")\n"
   ]
  },
  {
   "cell_type": "code",
   "execution_count": 23,
   "metadata": {},
   "outputs": [
    {
     "name": "stdout",
     "output_type": "stream",
     "text": [
      "Labels shape after encoding: (6672, 4)\n"
     ]
    }
   ],
   "source": [
    "from tensorflow.keras.utils import to_categorical\n",
    "\n",
    "\n",
    "all_labels_vgg19 = to_categorical(all_labels_vgg19, num_classes=4)\n",
    "all_labels_vgg19 = np.argmax(all_labels_vgg19, axis=-1)\n",
    "\n",
    "print(\"Labels shape after encoding:\", all_labels_vgg19.shape)  # Should be (6672, 4)\n"
   ]
  },
  {
   "cell_type": "code",
   "execution_count": 24,
   "metadata": {},
   "outputs": [],
   "source": [
    "np.save('f.npy', features_combined_unique)\n"
   ]
  },
  {
   "cell_type": "code",
   "execution_count": 25,
   "metadata": {},
   "outputs": [],
   "source": [
    "np.save('l.npy', all_labels_vgg19)\n"
   ]
  },
  {
   "cell_type": "code",
   "execution_count": 26,
   "metadata": {},
   "outputs": [
    {
     "name": "stdout",
     "output_type": "stream",
     "text": [
      "Loaded Features shape: (6672, 52047)\n",
      "Loaded Labels shape: (6672, 4)\n"
     ]
    }
   ],
   "source": [
    "features = np.load('/Users/saikarthik/Desktop/scp/model_building/f.npy')\n",
    "labels = np.load('/Users/saikarthik/Desktop/scp/model_building/l.npy')\n",
    "\n",
    "print(\"Loaded Features shape:\", features.shape) \n",
    "print(\"Loaded Labels shape:\", labels.shape) \n"
   ]
  }
 ],
 "metadata": {
  "kernelspec": {
   "display_name": "Python 3",
   "language": "python",
   "name": "python3"
  },
  "language_info": {
   "codemirror_mode": {
    "name": "ipython",
    "version": 3
   },
   "file_extension": ".py",
   "mimetype": "text/x-python",
   "name": "python",
   "nbconvert_exporter": "python",
   "pygments_lexer": "ipython3",
   "version": "3.8.16"
  }
 },
 "nbformat": 4,
 "nbformat_minor": 2
}
